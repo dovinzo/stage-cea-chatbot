{
 "cells": [
  {
   "cell_type": "markdown",
   "id": "1082234a-eed7-460d-8765-4de19355a0a8",
   "metadata": {},
   "source": [
    "## Installation des packages"
   ]
  },
  {
   "cell_type": "code",
   "execution_count": 5,
   "id": "d1482913-2db0-4a33-af93-fe2dff25661f",
   "metadata": {},
   "outputs": [
    {
     "name": "stdout",
     "output_type": "stream",
     "text": [
      "Collecting nlp\n",
      "  Downloading nlp-0.4.0-py3-none-any.whl (1.7 MB)\n",
      "\u001b[2K     \u001b[38;2;114;156;31m━━━━━━━━━━━━━━━━━━━━━━━━━━━━━━━━━━━━━━━━\u001b[0m \u001b[32m1.7/1.7 MB\u001b[0m \u001b[31m9.2 MB/s\u001b[0m eta \u001b[36m0:00:00\u001b[0m0m eta \u001b[36m0:00:01\u001b[0m[36m0:00:01\u001b[0m\n",
      "\u001b[?25hRequirement already satisfied: pyarrow>=0.16.0 in /home/catB/kl279585/envs/stage-cea-chatbot/lib/python3.10/site-packages (from nlp) (16.1.0)\n",
      "Requirement already satisfied: dill in /home/catB/kl279585/envs/stage-cea-chatbot/lib/python3.10/site-packages (from nlp) (0.3.8)\n",
      "Requirement already satisfied: tqdm>=4.27 in /home/catB/kl279585/envs/stage-cea-chatbot/lib/python3.10/site-packages (from nlp) (4.66.4)\n",
      "Requirement already satisfied: requests>=2.19.0 in /home/catB/kl279585/envs/stage-cea-chatbot/lib/python3.10/site-packages (from nlp) (2.32.3)\n",
      "Requirement already satisfied: xxhash in /home/catB/kl279585/envs/stage-cea-chatbot/lib/python3.10/site-packages (from nlp) (3.4.1)\n",
      "Requirement already satisfied: pandas in /home/catB/kl279585/envs/stage-cea-chatbot/lib/python3.10/site-packages (from nlp) (2.2.2)\n",
      "Requirement already satisfied: numpy in /home/catB/kl279585/envs/stage-cea-chatbot/lib/python3.10/site-packages (from nlp) (1.26.4)\n",
      "Requirement already satisfied: filelock in /home/catB/kl279585/envs/stage-cea-chatbot/lib/python3.10/site-packages (from nlp) (3.15.4)\n",
      "Requirement already satisfied: idna<4,>=2.5 in /home/catB/kl279585/envs/stage-cea-chatbot/lib/python3.10/site-packages (from requests>=2.19.0->nlp) (3.7)\n",
      "Requirement already satisfied: certifi>=2017.4.17 in /home/catB/kl279585/envs/stage-cea-chatbot/lib/python3.10/site-packages (from requests>=2.19.0->nlp) (2024.6.2)\n",
      "Requirement already satisfied: charset-normalizer<4,>=2 in /home/catB/kl279585/envs/stage-cea-chatbot/lib/python3.10/site-packages (from requests>=2.19.0->nlp) (3.3.2)\n",
      "Requirement already satisfied: urllib3<3,>=1.21.1 in /home/catB/kl279585/envs/stage-cea-chatbot/lib/python3.10/site-packages (from requests>=2.19.0->nlp) (2.2.2)\n",
      "Requirement already satisfied: tzdata>=2022.7 in /home/catB/kl279585/envs/stage-cea-chatbot/lib/python3.10/site-packages (from pandas->nlp) (2024.1)\n",
      "Requirement already satisfied: python-dateutil>=2.8.2 in /home/catB/kl279585/envs/stage-cea-chatbot/lib/python3.10/site-packages (from pandas->nlp) (2.9.0.post0)\n",
      "Requirement already satisfied: pytz>=2020.1 in /home/catB/kl279585/envs/stage-cea-chatbot/lib/python3.10/site-packages (from pandas->nlp) (2024.1)\n",
      "Requirement already satisfied: six>=1.5 in /home/catB/kl279585/envs/stage-cea-chatbot/lib/python3.10/site-packages (from python-dateutil>=2.8.2->pandas->nlp) (1.16.0)\n",
      "Installing collected packages: nlp\n",
      "Successfully installed nlp-0.4.0\n"
     ]
    }
   ],
   "source": [
    "! pip install nlp"
   ]
  },
  {
   "cell_type": "markdown",
   "id": "a9da5283-7e85-4e06-898f-191360d58099",
   "metadata": {},
   "source": [
    "## Importation des packages"
   ]
  },
  {
   "cell_type": "code",
   "execution_count": 1,
   "id": "47bf2d08-dd80-47e9-a657-e45bac0f6f66",
   "metadata": {},
   "outputs": [],
   "source": [
    "from transformers import T5Tokenizer, T5ForConditionalGeneration\n",
    "import nlp\n",
    "import torch"
   ]
  },
  {
   "cell_type": "markdown",
   "id": "b801cbb8-5414-417f-82d9-8242c030cc66",
   "metadata": {},
   "source": [
    "## Récupération du tokenizer"
   ]
  },
  {
   "cell_type": "code",
   "execution_count": 2,
   "id": "2f633dbd-e525-4b13-a0f8-d056990a4bf4",
   "metadata": {},
   "outputs": [
    {
     "name": "stderr",
     "output_type": "stream",
     "text": [
      "You are using the default legacy behaviour of the <class 'transformers.models.t5.tokenization_t5.T5Tokenizer'>. This is expected, and simply means that the `legacy` (previous) behavior will be used so nothing changes for you. If you want to use the new behaviour, set `legacy=False`. This should only be set if you understand what it means, and thoroughly read the reason why this was added as explained in https://github.com/huggingface/transformers/pull/24565\n",
      "Special tokens have been added in the vocabulary, make sure the associated word embeddings are fine-tuned or trained.\n"
     ]
    }
   ],
   "source": [
    "tokenizer = T5Tokenizer.from_pretrained(\"google-t5/t5-small\")"
   ]
  },
  {
   "cell_type": "markdown",
   "id": "c97ff938-b54a-4898-8bc3-30aa1af41f11",
   "metadata": {},
   "source": [
    "## Récupération du modèle"
   ]
  },
  {
   "cell_type": "code",
   "execution_count": 3,
   "id": "f2e8d83e-1889-4161-9f15-0bc91509eccc",
   "metadata": {},
   "outputs": [],
   "source": [
    "model = T5ForConditionalGeneration.from_pretrained(\"google-t5/t5-small\")"
   ]
  },
  {
   "cell_type": "markdown",
   "id": "0ea79c06-09a9-4e2d-85b6-fc19ee88c97a",
   "metadata": {},
   "source": [
    "## Exemple de prédiction"
   ]
  },
  {
   "cell_type": "code",
   "execution_count": 4,
   "id": "49b638db-b3a8-4107-a5bd-19d01c6cbc83",
   "metadata": {},
   "outputs": [],
   "source": [
    "input_text1 = \"question: Qu'est-ce qu'est la plateforme SALOME ?  context: La simulation numérique dans l’industrie nécessite l’usage de méthodes performantes que ce soit en mécanique des fluides, des structures, en électromagnétisme ou autres. La plate-forme logicielle SALOME fournit aux ingénieurs une solution qui leur permet de bénéficier de modules de haut niveau : CAO, maillage, couplage de phénomènes, visualisation, supervision du calcul, incertitudes, … Deux approches existent : soit utiliser directement ces modules dans SALOME, soit construire une application à partir de ces modules et de logiciels de simulation du domaine voulu. Développée selon une approche collaborative, SALOME est disponible sous licence LGPL (GNU Lesser General Public License). L’évolution dynamique de SALOME assure l’usage optimal des ressources informatiques : cluster, HPC, graphique. Grâce aux logiciels intégrant SALOME, EDF et CEA réalisent de façon performante les études nécessaires au bon fonctionnement de leurs installations et aux travaux de recherche dans leur domaine. SALOME favorise le partage des connaissances et des pratiques pour garantir un haut niveau d’expertise des utilisateurs.\""
   ]
  },
  {
   "cell_type": "code",
   "execution_count": 30,
   "id": "544571e9-0f50-4bb6-a19f-762d79da040e",
   "metadata": {},
   "outputs": [],
   "source": [
    "input_text2 = \"question: Qu'est-ce que le Parc Astérix ?  context: À 35km au nord de Paris, le Parc Astérix est un détonnant mélange de 50 attractions et spectacles mis en scène dans 7 univers retraçant les aventures du célèbre gaulois : La Gaule, L’Empire Romain, La Grèce Antique, L’Egypte, les Vikings, À Travers le Temps et Festival Toutatis. Mais également 3 hôtels atypiques et authentiques : Les Trois Hiboux, La Cité Suspendue, Les Quais de Lutèce, faisant du Parc Astérix une véritable destination de séjour. Humour, convivialité, partage, authenticité sont les valeurs qui ont su séduire depuis 33 ans les plus de 52 millions de visiteurs.\""
   ]
  },
  {
   "cell_type": "code",
   "execution_count": 31,
   "id": "76728e24-fbd9-4699-b0de-8fb7d6752d63",
   "metadata": {},
   "outputs": [
    {
     "name": "stdout",
     "output_type": "stream",
     "text": [
      "tensor([[  822,    10,  2415,    31,   222,    18,   565,   238,    90, 11794,\n",
      "           282,    17,  5134,   226,     3,    58,  2625,    10,     3,     2,\n",
      "          3097,  5848,   185,  9532,    20,  1919,     6,    90, 11794,   282,\n",
      "            17,  5134,   226,   259,    73,     3,    26, 31375, 16315,    20,\n",
      "           943, 10108,     3,    15,    17, 13498,     7,  1817,     3,    35,\n",
      "         12739,   247,   489,     3,  7846,     3,    60,  1313, 21379,   110,\n",
      "             3, 17143,     7,   146, 20140,     3, 20038, 14970,     3,    10,\n",
      "           325, 12520,   109,     6,   301,    22,   427,  1167,  2060, 16082,\n",
      "            77,     6,   325,  3796,  5115,   565, 24035,     6,   301,    22,\n",
      "           427, 31390,     6,   110, 19476,     7,     6,     3,     2,  3083,\n",
      "          2660,    90,     3, 15291,     7,     3,    15,    17,  3397,  8786,\n",
      "           144,   159,     5,  3307,  2220,   220,     3, 10890,     7,     3,\n",
      "             9, 27941,     7,     3,    15,    17,   185,   189,    35, 10873,\n",
      "             3,    10,   622,  7080,   159,  2018,  4076,   226,     6,   325,\n",
      "           205,  1257,  1923, 23490,    76,    15,     6,   622,  2415,     9,\n",
      "           159,    20,  2318,    17,  5115,   565,     6,     3, 17111,   146,\n",
      "         11794,   282,    17,  5134,   226,   245, 12421,  3954,    20, 12742,\n",
      "             5, 12410,  1211,     6, 26830,  1257,     6, 16762,     6,  6876,\n",
      "          1257,   527,   110,  8246,     7,   285,    30,    17,  2629, 27909,\n",
      "            60,  2873,  5400,    46,     7,   110,   303,    20,  9065,  4040,\n",
      "            20, 23774,     5,     1]])\n"
     ]
    }
   ],
   "source": [
    "input_encoding2 = tokenizer(input_text2, return_tensors=\"pt\")\n",
    "input_ids2 = input_encoding2['input_ids']\n",
    "\n",
    "print(input_ids2)"
   ]
  },
  {
   "cell_type": "code",
   "execution_count": 32,
   "id": "2ba5e64a-5327-45b2-b665-bcf106366356",
   "metadata": {},
   "outputs": [
    {
     "name": "stdout",
     "output_type": "stream",
     "text": [
      "['▁question', ':', '▁Qu', \"'\", 'est', '-', 'ce', '▁que', '▁le', '▁Parc', '▁As', 't', 'éri', 'x', '?', '▁context', ':', '<unk>', '▁35', 'km', '▁au', '▁nord', '▁de', '▁Paris', ',', '▁le', '▁Parc', '▁As', 't', 'éri', 'x', '▁est', '▁un', '▁', 'd', 'étonnant', '▁mélange', '▁de', '▁50', '▁attractions', '▁', 'e', 't', '▁spectacle', 's', '▁mis', '▁', 'en', '▁scène', '▁dans', '▁7', '▁', 'univers', '▁', 're', 'tra', 'çant', '▁les', '▁', 'aventure', 's', '▁du', '▁célèbre', '▁', 'gau', 'lois', '▁', ':', '▁La', '▁Gau', 'le', ',', '▁L', '’', 'E', 'mp', 'ire', '▁Roma', 'in', ',', '▁La', '▁Gr', 'è', 'ce', '▁Antique', ',', '▁L', '’', 'E', 'gypte', ',', '▁les', '▁Viking', 's', ',', '<unk>', '▁Tra', 'vers', '▁le', '▁', 'Temp', 's', '▁', 'e', 't', '▁Festival', '▁Tout', 'at', 'is', '.', '▁Mais', '▁également', '▁3', '▁', 'hôtel', 's', '▁', 'a', 'typique', 's', '▁', 'e', 't', '▁au', 'th', 'en', 'tiques', '▁', ':', '▁Les', '▁Tro', 'is', '▁Hi', 'bou', 'x', ',', '▁La', '▁C', 'ité', '▁Su', 'spend', 'u', 'e', ',', '▁Les', '▁Qu', 'a', 'is', '▁de', '▁Lu', 't', 'è', 'ce', ',', '▁', 'faisant', '▁du', '▁Parc', '▁As', 't', 'éri', 'x', '▁une', '▁véritable', '▁destination', '▁de', '▁séjour', '.', '▁Hum', 'our', ',', '▁convivial', 'ité', ',', '▁partage', ',', '▁authentic', 'ité', '▁sont', '▁les', '▁valeur', 's', '▁qui', '▁on', 't', '▁su', '▁sédui', 're', '▁depuis', '▁33', '▁an', 's', '▁les', '▁plus', '▁de', '▁52', '▁millions', '▁de', '▁visiteurs', '.', '</s>']\n"
     ]
    }
   ],
   "source": [
    "print(tokenizer.tokenize(tokenizer.decode(input_ids2[0])))"
   ]
  },
  {
   "cell_type": "code",
   "execution_count": 33,
   "id": "e595a13e-1046-4149-aaee-4600d8a8f092",
   "metadata": {},
   "outputs": [],
   "source": [
    "outputs2 = model.generate(input_ids2)"
   ]
  },
  {
   "cell_type": "code",
   "execution_count": 34,
   "id": "33f68800-43af-4d53-8814-fb437e75dd38",
   "metadata": {},
   "outputs": [
    {
     "data": {
      "text/plain": [
       "tensor([[   0,    3,    2, 3097, 5848,  185, 9532,   20, 1919,    1]])"
      ]
     },
     "execution_count": 34,
     "metadata": {},
     "output_type": "execute_result"
    }
   ],
   "source": [
    "outputs2"
   ]
  },
  {
   "cell_type": "code",
   "execution_count": 35,
   "id": "361a53b2-0e91-425c-b4b1-2bbfb2d0106e",
   "metadata": {},
   "outputs": [
    {
     "name": "stdout",
     "output_type": "stream",
     "text": [
      "35km au nord de Paris\n"
     ]
    }
   ],
   "source": [
    "print(tokenizer.decode(outputs2[0], skip_special_tokens=True))"
   ]
  }
 ],
 "metadata": {
  "kernelspec": {
   "display_name": "stage-cea-chatbot",
   "language": "python",
   "name": "stage-cea-chatbot"
  },
  "language_info": {
   "codemirror_mode": {
    "name": "ipython",
    "version": 3
   },
   "file_extension": ".py",
   "mimetype": "text/x-python",
   "name": "python",
   "nbconvert_exporter": "python",
   "pygments_lexer": "ipython3",
   "version": "3.10.12"
  }
 },
 "nbformat": 4,
 "nbformat_minor": 5
}
