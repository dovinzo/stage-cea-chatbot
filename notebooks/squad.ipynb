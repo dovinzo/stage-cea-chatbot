{
 "cells": [
  {
   "cell_type": "markdown",
   "id": "4ee5b39d-ee05-4771-a71e-358d09fd41fd",
   "metadata": {},
   "source": [
    "# Réponse aux questions"
   ]
  },
  {
   "cell_type": "markdown",
   "id": "7cf50bcc-3fbd-469c-9ea3-c0275bd55c22",
   "metadata": {},
   "source": [
    "Dans ce notebook, nous allons nous intéresser à la réponse aux questions, plus particulièrement à la réponse aux questions *extractives*. Les étapes suivantes seront suivies :\n",
    "\n",
    "1. Préparation des données.\n",
    "2. Finetuning du modèle.\n",
    "3. Utilisation du modèle.\n",
    "\n",
    "J'ai suivi une partie du cours [**NLP Course**](https://huggingface.co/learn/nlp-course/fr/chapter7/7) d'Hugging Face pour réaliser ce notebook."
   ]
  },
  {
   "cell_type": "markdown",
   "id": "a0f17050-bb4c-40b6-ab8b-de8755e52236",
   "metadata": {},
   "source": [
    "## Préparation des données"
   ]
  },
  {
   "cell_type": "markdown",
   "id": "7e8675e2-055d-478a-af90-e8249e98bb39",
   "metadata": {},
   "source": [
    "Dans ce notebook, on utilise le jeu de données [SQuAD](https://rajpurkar.github.io/SQuAD-explorer/)."
   ]
  },
  {
   "cell_type": "markdown",
   "id": "bcdd389c-55b7-4eef-9c49-77c5d2777fe1",
   "metadata": {},
   "source": [
    "### Récupération du jeu de données"
   ]
  },
  {
   "cell_type": "markdown",
   "id": "945eb88f-80b2-4dee-b8ef-649e40837040",
   "metadata": {},
   "source": [
    "On télécharge et on met en cache le jeu de données en une seule étape grâce à `load_dataset()` :"
   ]
  },
  {
   "cell_type": "code",
   "execution_count": 1,
   "id": "c4c5f32f-d23a-46af-9f47-8d2d54299c4f",
   "metadata": {},
   "outputs": [
    {
     "data": {
      "application/vnd.jupyter.widget-view+json": {
       "model_id": "b688165c6a3d425687ec957cfce01fb8",
       "version_major": 2,
       "version_minor": 0
      },
      "text/plain": [
       "Downloading readme:   0%|          | 0.00/7.62k [00:00<?, ?B/s]"
      ]
     },
     "metadata": {},
     "output_type": "display_data"
    },
    {
     "data": {
      "application/vnd.jupyter.widget-view+json": {
       "model_id": "4102700cbf55434f9359546854e3ebfb",
       "version_major": 2,
       "version_minor": 0
      },
      "text/plain": [
       "Downloading data:   0%|          | 0.00/14.5M [00:00<?, ?B/s]"
      ]
     },
     "metadata": {},
     "output_type": "display_data"
    },
    {
     "data": {
      "application/vnd.jupyter.widget-view+json": {
       "model_id": "deef2d3c4d1b4f46a14a45b50fddda6f",
       "version_major": 2,
       "version_minor": 0
      },
      "text/plain": [
       "Downloading data:   0%|          | 0.00/1.82M [00:00<?, ?B/s]"
      ]
     },
     "metadata": {},
     "output_type": "display_data"
    },
    {
     "data": {
      "application/vnd.jupyter.widget-view+json": {
       "model_id": "bfca49b253e24c4ba4a2334f0adb846a",
       "version_major": 2,
       "version_minor": 0
      },
      "text/plain": [
       "Generating train split:   0%|          | 0/87599 [00:00<?, ? examples/s]"
      ]
     },
     "metadata": {},
     "output_type": "display_data"
    },
    {
     "data": {
      "application/vnd.jupyter.widget-view+json": {
       "model_id": "1f467e1cd20a4ab5a123069b61b14c57",
       "version_major": 2,
       "version_minor": 0
      },
      "text/plain": [
       "Generating validation split:   0%|          | 0/10570 [00:00<?, ? examples/s]"
      ]
     },
     "metadata": {},
     "output_type": "display_data"
    }
   ],
   "source": [
    "from datasets import load_dataset\n",
    "\n",
    "raw_datasets = load_dataset(\"squad\")"
   ]
  },
  {
   "cell_type": "markdown",
   "id": "68f3f99e-f0c1-4155-b3c5-3ab4ba8d5bf2",
   "metadata": {},
   "source": [
    "Voici à quoi ressemble le jeu de données :"
   ]
  },
  {
   "cell_type": "code",
   "execution_count": 2,
   "id": "bf9da543-a220-40ec-b940-ba2aeb777a39",
   "metadata": {},
   "outputs": [
    {
     "data": {
      "text/plain": [
       "DatasetDict({\n",
       "    train: Dataset({\n",
       "        features: ['id', 'title', 'context', 'question', 'answers'],\n",
       "        num_rows: 87599\n",
       "    })\n",
       "    validation: Dataset({\n",
       "        features: ['id', 'title', 'context', 'question', 'answers'],\n",
       "        num_rows: 10570\n",
       "    })\n",
       "})"
      ]
     },
     "execution_count": 2,
     "metadata": {},
     "output_type": "execute_result"
    }
   ],
   "source": [
    "raw_datasets"
   ]
  },
  {
   "cell_type": "markdown",
   "id": "559f1088-e502-483a-ad4f-873e9ea60f3d",
   "metadata": {},
   "source": [
    "On y voit trois champs qui nous intéresse : `context`, `question` et `answers`. L'idée est qu'on pose une question et la tâche consiste à répondre à cette question à partir du contexte. Voici à quoi peuvent ressembler ces trois champs :"
   ]
  },
  {
   "cell_type": "code",
   "execution_count": 5,
   "id": "cde31b38-eedd-4e67-8110-f34013f3f817",
   "metadata": {},
   "outputs": [
    {
     "name": "stdout",
     "output_type": "stream",
     "text": [
      "Context:  Architecturally, the school has a Catholic character. Atop the Main Building's gold dome is a golden statue of the Virgin Mary. Immediately in front of the Main Building and facing it, is a copper statue of Christ with arms upraised with the legend \"Venite Ad Me Omnes\". Next to the Main Building is the Basilica of the Sacred Heart. Immediately behind the basilica is the Grotto, a Marian place of prayer and reflection. It is a replica of the grotto at Lourdes, France where the Virgin Mary reputedly appeared to Saint Bernadette Soubirous in 1858. At the end of the main drive (and in a direct line that connects through 3 statues and the Gold Dome), is a simple, modern stone statue of Mary. \n",
      "\n",
      "Question:  To whom did the Virgin Mary allegedly appear in 1858 in Lourdes France? \n",
      "\n",
      "Answer:  {'text': ['Saint Bernadette Soubirous'], 'answer_start': [515]}\n"
     ]
    }
   ],
   "source": [
    "print(\"Context: \", raw_datasets[\"train\"][0][\"context\"], \"\\n\")\n",
    "print(\"Question: \", raw_datasets[\"train\"][0][\"question\"], \"\\n\")\n",
    "print(\"Answer: \", raw_datasets[\"train\"][0][\"answers\"])"
   ]
  },
  {
   "cell_type": "markdown",
   "id": "7f84df04-3df7-4ab1-a4be-bbae6eec7c9e",
   "metadata": {},
   "source": [
    "Les champs `context` et `question` sont simples à comprendre. Or, le champ `answers` est plus difficile à comprendre. Il s'agit d'un dictionnaire avec deux champs : le champ `text` qui correspond à une liste de réponses (textes) et le champ `answer_start` qui correspond à une liste d'indices qui est l’indice du caractère de départ de chaque réponse dans le contexte.\n",
    "\n",
    "Pour l'entraînement, il n’y a qu’une seule réponse possible :"
   ]
  },
  {
   "cell_type": "code",
   "execution_count": 6,
   "id": "71c2d5bb-390d-44c4-9cbd-fe45b864d1f6",
   "metadata": {},
   "outputs": [
    {
     "data": {
      "application/vnd.jupyter.widget-view+json": {
       "model_id": "6c3d2299ff4942dc955fcfc36557edeb",
       "version_major": 2,
       "version_minor": 0
      },
      "text/plain": [
       "Filter:   0%|          | 0/87599 [00:00<?, ? examples/s]"
      ]
     },
     "metadata": {},
     "output_type": "display_data"
    },
    {
     "data": {
      "text/plain": [
       "Dataset({\n",
       "    features: ['id', 'title', 'context', 'question', 'answers'],\n",
       "    num_rows: 0\n",
       "})"
      ]
     },
     "execution_count": 6,
     "metadata": {},
     "output_type": "execute_result"
    }
   ],
   "source": [
    "raw_datasets[\"train\"].filter(lambda x: len(x[\"answers\"][\"text\"]) != 1)"
   ]
  },
  {
   "cell_type": "markdown",
   "id": "21661614-3162-4d6c-b30f-c0b96e003325",
   "metadata": {},
   "source": [
    "Pour l’évaluation, cependant, il existe plusieurs réponses possibles pour chaque échantillon, qui peuvent être identiques ou différentes :"
   ]
  },
  {
   "cell_type": "code",
   "execution_count": 7,
   "id": "606c0afb-2d99-4951-8b12-272b73d83a3c",
   "metadata": {},
   "outputs": [
    {
     "name": "stdout",
     "output_type": "stream",
     "text": [
      "{'text': ['Denver Broncos', 'Denver Broncos', 'Denver Broncos'], 'answer_start': [177, 177, 177]}\n",
      "{'text': ['Santa Clara, California', \"Levi's Stadium\", \"Levi's Stadium in the San Francisco Bay Area at Santa Clara, California.\"], 'answer_start': [403, 355, 355]}\n"
     ]
    }
   ],
   "source": [
    "print(raw_datasets[\"validation\"][0][\"answers\"])\n",
    "print(raw_datasets[\"validation\"][2][\"answers\"])"
   ]
  },
  {
   "cell_type": "markdown",
   "id": "688600f7-0a7a-4dff-b65d-9b71ecc71d7a",
   "metadata": {},
   "source": [
    "Mais pourquoi ? Ça provient du fait que certaines des questions ont plusieurs réponses possibles ! Le script d’évaluation (tout sera enveloppé pour nous par une métrique de *Datasets*) va comparer une réponse prédite à toutes les réponses acceptables et prendre le meilleur score. Pour mieux comprendre cette idée, voici un exemple :"
   ]
  },
  {
   "cell_type": "code",
   "execution_count": 10,
   "id": "5ebb13ee-6ca1-4ee7-9da6-7a44d8c13c7a",
   "metadata": {},
   "outputs": [
    {
     "name": "stdout",
     "output_type": "stream",
     "text": [
      "Context:  Super Bowl 50 was an American football game to determine the champion of the National Football League (NFL) for the 2015 season. The American Football Conference (AFC) champion Denver Broncos defeated the National Football Conference (NFC) champion Carolina Panthers 24–10 to earn their third Super Bowl title. The game was played on February 7, 2016, at Levi's Stadium in the San Francisco Bay Area at Santa Clara, California. As this was the 50th Super Bowl, the league emphasized the \"golden anniversary\" with various gold-themed initiatives, as well as temporarily suspending the tradition of naming each Super Bowl game with Roman numerals (under which the game would have been known as \"Super Bowl L\"), so that the logo could prominently feature the Arabic numerals 50. \n",
      "\n",
      "Question:  Where did Super Bowl 50 take place? \n",
      "\n",
      "Answers:  {'text': ['Santa Clara, California', \"Levi's Stadium\", \"Levi's Stadium in the San Francisco Bay Area at Santa Clara, California.\"], 'answer_start': [403, 355, 355]} \n",
      "\n"
     ]
    }
   ],
   "source": [
    "print(\"Context: \", raw_datasets[\"validation\"][2][\"context\"], \"\\n\")\n",
    "print(\"Question: \", raw_datasets[\"validation\"][2][\"question\"], \"\\n\")\n",
    "print(\"Answers: \", raw_datasets[\"validation\"][2][\"answers\"], \"\\n\")"
   ]
  },
  {
   "cell_type": "markdown",
   "id": "788fe184-8138-4a83-9890-2ec31f9bb7da",
   "metadata": {},
   "source": [
    "On voit bien que ces différentes réponses sont possibles."
   ]
  }
 ],
 "metadata": {
  "kernelspec": {
   "display_name": "stage-cea-chatbot",
   "language": "python",
   "name": "stage-cea-chatbot"
  },
  "language_info": {
   "codemirror_mode": {
    "name": "ipython",
    "version": 3
   },
   "file_extension": ".py",
   "mimetype": "text/x-python",
   "name": "python",
   "nbconvert_exporter": "python",
   "pygments_lexer": "ipython3",
   "version": "3.10.12"
  }
 },
 "nbformat": 4,
 "nbformat_minor": 5
}
